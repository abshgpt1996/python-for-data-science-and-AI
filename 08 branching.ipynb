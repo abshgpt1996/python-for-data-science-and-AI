{
 "cells": [
  {
   "cell_type": "markdown",
   "metadata": {},
   "source": [
    "age = 17\n",
    "if(age>18):\n",
    "    print(\"you can enter\")\n",
    "else:\n",
    "    print(\"go there\")\n",
    "print(\"move on\")\n"
   ]
  },
  {
   "cell_type": "code",
   "execution_count": 2,
   "metadata": {},
   "outputs": [
    {
     "name": "stdout",
     "output_type": "stream",
     "text": [
      "you can enter\n",
      "move on\n"
     ]
    }
   ],
   "source": [
    "age = 19\n",
    "if(age>18):\n",
    "    print(\"you can enter\")\n",
    "else:\n",
    "    print(\"go there\")\n",
    "print(\"move on\")"
   ]
  },
  {
   "cell_type": "markdown",
   "metadata": {},
   "source": [
    "## elif statement\n",
    "## allows us to check additional conditions if the preceding condition is false. if the conditions is true, the alternate expressions will run."
   ]
  },
  {
   "cell_type": "code",
   "execution_count": 3,
   "metadata": {},
   "outputs": [
    {
     "name": "stdout",
     "output_type": "stream",
     "text": [
      "pink floyd\n",
      "move on\n"
     ]
    }
   ],
   "source": [
    "age=18\n",
    "if age>18:\n",
    "    print(\"you can enter\")\n",
    "elif age==18:\n",
    "    print(\"pink floyd\")\n",
    "else:\n",
    "    print(\"meat loaf\")\n",
    "print(\"move on\")"
   ]
  },
  {
   "cell_type": "code",
   "execution_count": 4,
   "metadata": {},
   "outputs": [
    {
     "name": "stdout",
     "output_type": "stream",
     "text": [
      "meat loaf\n",
      "move on\n"
     ]
    }
   ],
   "source": [
    "age=17\n",
    "if age>18:\n",
    "    print(\"you can enter\")\n",
    "elif age==18:\n",
    "    print(\"pink floyd\")\n",
    "else:\n",
    "    print(\"meat loaf\")\n",
    "print(\"move on\")"
   ]
  },
  {
   "cell_type": "code",
   "execution_count": 5,
   "metadata": {},
   "outputs": [
    {
     "name": "stdout",
     "output_type": "stream",
     "text": [
      "you can enter\n",
      "move on\n"
     ]
    }
   ],
   "source": [
    "age=50\n",
    "if age>18:\n",
    "    print(\"you can enter\")\n",
    "elif age==18:\n",
    "    print(\"pink floyd\")\n",
    "else:\n",
    "    print(\"meat loaf\")\n",
    "print(\"move on\")"
   ]
  },
  {
   "cell_type": "code",
   "execution_count": null,
   "metadata": {},
   "outputs": [],
   "source": [
    "## logic operators\n",
    "# they take boolian values and produce different boolean values."
   ]
  },
  {
   "cell_type": "code",
   "execution_count": 6,
   "metadata": {},
   "outputs": [
    {
     "data": {
      "text/plain": [
       "False"
      ]
     },
     "execution_count": 6,
     "metadata": {},
     "output_type": "execute_result"
    }
   ],
   "source": [
    "# not operator\n",
    "not(True)"
   ]
  },
  {
   "cell_type": "code",
   "execution_count": 7,
   "metadata": {},
   "outputs": [
    {
     "data": {
      "text/plain": [
       "True"
      ]
     },
     "execution_count": 7,
     "metadata": {},
     "output_type": "execute_result"
    }
   ],
   "source": [
    "not(False)"
   ]
  },
  {
   "cell_type": "code",
   "execution_count": 11,
   "metadata": {},
   "outputs": [
    {
     "data": {
      "text/plain": [
       "True"
      ]
     },
     "execution_count": 11,
     "metadata": {},
     "output_type": "execute_result"
    }
   ],
   "source": [
    "# OR operator\n",
    "## produces false when all the boolean values are false\n",
    "True or False"
   ]
  },
  {
   "cell_type": "code",
   "execution_count": 9,
   "metadata": {},
   "outputs": [
    {
     "data": {
      "text/plain": [
       "True"
      ]
     },
     "execution_count": 9,
     "metadata": {},
     "output_type": "execute_result"
    }
   ],
   "source": [
    "True or False"
   ]
  },
  {
   "cell_type": "code",
   "execution_count": 10,
   "metadata": {},
   "outputs": [
    {
     "data": {
      "text/plain": [
       "False"
      ]
     },
     "execution_count": 10,
     "metadata": {},
     "output_type": "execute_result"
    }
   ],
   "source": [
    "False or False"
   ]
  },
  {
   "cell_type": "code",
   "execution_count": 14,
   "metadata": {},
   "outputs": [
    {
     "name": "stdout",
     "output_type": "stream",
     "text": [
      "album was made in 70s or 90s\n"
     ]
    }
   ],
   "source": [
    "ay=1990\n",
    "if (ay<1980) or (ay>1989):\n",
    "    print('album was made in 70s or 90s')\n",
    "else:\n",
    "    print('album was made in 80s')\n"
   ]
  },
  {
   "cell_type": "code",
   "execution_count": 15,
   "metadata": {},
   "outputs": [
    {
     "name": "stdout",
     "output_type": "stream",
     "text": [
      "album was made in 80s\n"
     ]
    }
   ],
   "source": [
    "ay=1982\n",
    "if (ay<1980) or (ay>1989):\n",
    "    print('album was made in 70s or 90s')\n",
    "else:\n",
    "    print('album was made in 80s')"
   ]
  },
  {
   "cell_type": "code",
   "execution_count": null,
   "metadata": {},
   "outputs": [],
   "source": [
    "## AND operator\n",
    "# produces True when all boolean values are True."
   ]
  },
  {
   "cell_type": "code",
   "execution_count": 16,
   "metadata": {},
   "outputs": [
    {
     "data": {
      "text/plain": [
       "False"
      ]
     },
     "execution_count": 16,
     "metadata": {},
     "output_type": "execute_result"
    }
   ],
   "source": [
    "True and False"
   ]
  },
  {
   "cell_type": "code",
   "execution_count": 17,
   "metadata": {},
   "outputs": [
    {
     "data": {
      "text/plain": [
       "True"
      ]
     },
     "execution_count": 17,
     "metadata": {},
     "output_type": "execute_result"
    }
   ],
   "source": [
    "True and True"
   ]
  },
  {
   "cell_type": "code",
   "execution_count": 18,
   "metadata": {},
   "outputs": [
    {
     "name": "stdout",
     "output_type": "stream",
     "text": [
      "album was made in 80s\n"
     ]
    }
   ],
   "source": [
    "ay = 1983\n",
    "if (ay>1970) and (ay<1990):\n",
    "    print(\"album was made in 80s\")"
   ]
  },
  {
   "cell_type": "code",
   "execution_count": null,
   "metadata": {},
   "outputs": [],
   "source": []
  }
 ],
 "metadata": {
  "kernelspec": {
   "display_name": "Python 3",
   "language": "python",
   "name": "python3"
  },
  "language_info": {
   "codemirror_mode": {
    "name": "ipython",
    "version": 3
   },
   "file_extension": ".py",
   "mimetype": "text/x-python",
   "name": "python",
   "nbconvert_exporter": "python",
   "pygments_lexer": "ipython3",
   "version": "3.7.6"
  }
 },
 "nbformat": 4,
 "nbformat_minor": 4
}
